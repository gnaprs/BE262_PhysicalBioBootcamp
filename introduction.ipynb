{
 "metadata": {
  "language_info": {
   "codemirror_mode": {
    "name": "ipython",
    "version": 3
   },
   "file_extension": ".py",
   "mimetype": "text/x-python",
   "name": "python",
   "nbconvert_exporter": "python",
   "pygments_lexer": "ipython3",
   "version": "3.8.8"
  },
  "orig_nbformat": 4,
  "kernelspec": {
   "name": "python3",
   "display_name": "Python 3.8.8 64-bit ('py38': conda)"
  },
  "interpreter": {
   "hash": "c85909c066b39d857071483c78a937d00aa7546f1f52ba3c0924986ff839b8c7"
  }
 },
 "nbformat": 4,
 "nbformat_minor": 2,
 "cells": [
  {
   "cell_type": "markdown",
   "source": [
    "# Basics of Python"
   ],
   "metadata": {}
  },
  {
   "cell_type": "code",
   "execution_count": 14,
   "source": [
    "# concat\r\n",
    "s1='ATCGA'\r\n",
    "print(s1+\"TCAGCA\")\r\n",
    "\r\n",
    "num_A=s1.count('A')\r\n",
    "print(num_A)"
   ],
   "outputs": [
    {
     "output_type": "stream",
     "name": "stdout",
     "text": [
      "ATCGATCAGCA\n",
      "2\n"
     ]
    }
   ],
   "metadata": {}
  },
  {
   "cell_type": "code",
   "execution_count": 38,
   "source": [
    "# generate lists, arrays\r\n",
    "ex_list=[1,2,3]\r\n",
    "ex_tuple=(1,2,\"Rob\")\r\n",
    "\r\n",
    "# index values\r\n",
    "print(ex_list[2])\r\n",
    "print(ex_tuple[2])"
   ],
   "outputs": [
    {
     "output_type": "stream",
     "name": "stdout",
     "text": [
      "3\n",
      "Rob\n"
     ]
    }
   ],
   "metadata": {}
  },
  {
   "cell_type": "code",
   "execution_count": 39,
   "source": [
    "# numpy is bae\r\n",
    "import numpy as np\r\n",
    "print(np.sin(2))\r\n",
    "\r\n",
    "ex_array = np.array([1,2,3,4])\r\n",
    "print(ex_array*2)\r\n",
    "print(np.dot(ex_array,ex_array))\r\n",
    "\r\n",
    "ex_2darray = np.array([[1,2,3,4],[1,2,3,4]])\r\n",
    "print(ex_2darray)"
   ],
   "outputs": [
    {
     "output_type": "stream",
     "name": "stdout",
     "text": [
      "0.9092974268256817\n",
      "[2 4 6 8]\n",
      "30\n",
      "[[1 2 3 4]\n",
      " [1 2 3 4]]\n"
     ]
    }
   ],
   "metadata": {}
  },
  {
   "cell_type": "code",
   "execution_count": 54,
   "source": [
    "# auto generation \r\n",
    "ex_linspace = np.linspace(0,10,100) # linearly spaced: start 0, end 10, contains 100 points\r\n",
    "ex_logspace = np.logspace(-1,1,10) # log spaced: start 10^-1, end 10^1, w 10 points\r\n",
    "ex_arange = np.arange(0,50,2) # range: start 0, end 50, step size 2 \r\n",
    "\r\n",
    "len(ex_arange)"
   ],
   "outputs": [
    {
     "output_type": "execute_result",
     "data": {
      "text/plain": [
       "25"
      ]
     },
     "metadata": {},
     "execution_count": 54
    }
   ],
   "metadata": {}
  },
  {
   "cell_type": "code",
   "execution_count": null,
   "source": [],
   "outputs": [],
   "metadata": {}
  }
 ]
}